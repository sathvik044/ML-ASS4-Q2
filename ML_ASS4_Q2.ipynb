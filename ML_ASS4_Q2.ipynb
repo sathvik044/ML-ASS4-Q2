{
  "nbformat": 4,
  "nbformat_minor": 0,
  "metadata": {
    "colab": {
      "provenance": [],
      "authorship_tag": "ABX9TyODnkwO7jZX5yb3ig4Gzv/+",
      "include_colab_link": true
    },
    "kernelspec": {
      "name": "python3",
      "display_name": "Python 3"
    },
    "language_info": {
      "name": "python"
    }
  },
  "cells": [
    {
      "cell_type": "markdown",
      "metadata": {
        "id": "view-in-github",
        "colab_type": "text"
      },
      "source": [
        "<a href=\"https://colab.research.google.com/github/sathvik044/ML-ASS4-Q2/blob/main/ML_ASS4_Q2.ipynb\" target=\"_parent\"><img src=\"https://colab.research.google.com/assets/colab-badge.svg\" alt=\"Open In Colab\"/></a>"
      ]
    },
    {
      "cell_type": "code",
      "source": [
        "import numpy as np\n",
        "import pandas as pd\n",
        "df=pd.read_csv('/content/Enjoy sports.csv')\n",
        "\n",
        "df.shape\n",
        "\n",
        "\n",
        "df.head(10)\n",
        "\n",
        "def entropy(data):\n",
        "  d=data.iloc[:,-1]\n",
        "  d=d.value_counts()\n",
        "  s=0\n",
        "  for v in d.keys():\n",
        "    p=d[v]/sum(d)\n",
        "    s-=p*np.log2(p)\n",
        "\n",
        "  return (s)\n",
        "\n",
        "\n",
        "df.keys()\n",
        "\n",
        "def informationgain(data,A):\n",
        "  Es=entropy(data)\n",
        "  val=values(data[A])\n",
        "  s_c=data[A].value_counts()\n",
        "  s_v=[]\n",
        "\n",
        "  for v in range(len(val)):\n",
        "    ds=data[data[A]==val[v]]\n",
        "    s=0\n",
        "    for res in values(data.iloc[:,-1]):\n",
        "      try:\n",
        "        pi=ds.iloc[:,-1].value_counts()[res]/len(ds)\n",
        "        s-=pi*np.log2(pi)\n",
        "      except:\n",
        "        s=0\n",
        "    s_v.append(s)\n",
        "  for i in range(len(val)):\n",
        "    Es=Es-s_c[val[i]]*s_v[i]/sum(s_c)\n",
        "\n",
        "  return Es\n",
        "\n",
        "\n",
        "\n",
        "from sklearn.tree import DecisionTreeClassifier\n",
        "from sklearn.preprocessing import LabelEncoder\n",
        "\n",
        "\n",
        "le=LabelEncoder()\n",
        "df['Outlook']=le.fit_transform(df['Outlook'])\n",
        "df['Temperature']=le.fit_transform(df['Temp.'])\n",
        "df['Humidity']=le.fit_transform(df['Humidity'])\n",
        "df['Wind']=le.fit_transform(df['Wind'])\n",
        "\n",
        "x=df[['Outlook','Temperature','Humidity','Wind']]\n",
        "y=df['Decision']\n",
        "\n",
        "\n",
        "tree=DecisionTreeClassifier(criterion='entropy',random_state=0)\n",
        "tree.fit(x,y)\n",
        "\n",
        "tree\n",
        "\n",
        "from sklearn.tree import export_graphviz\n",
        "import graphviz\n",
        "\n",
        "dot_data=export_graphviz(tree,out_file=None)\n",
        "graph=graphviz.Source(dot_data)\n",
        "\n",
        "dot_data=export_graphviz(tree,out_file=None,feature_names=x.columns,filled=True,rounded=True,special_characters=True)\n",
        "graph=graphviz.Source(dot_data)\n"
      ],
      "metadata": {
        "id": "zEWexPZE1nqp"
      },
      "execution_count": 2,
      "outputs": []
    }
  ]
}